{
 "cells": [
  {
   "cell_type": "markdown",
   "id": "742e83b3",
   "metadata": {},
   "source": [
    "## Amazon Sales Data Web Scrapping using Selenium"
   ]
  },
  {
   "cell_type": "code",
   "execution_count": 1,
   "id": "49827d5c",
   "metadata": {},
   "outputs": [],
   "source": [
    "from selenium import webdriver\n",
    "from lxml import etree\n",
    "from time import sleep\n",
    "from selenium.webdriver.common.by import By\n",
    "from bs4 import BeautifulSoup as bs\n",
    "import requests\n",
    "import pandas as pd\n",
    "import random\n",
    "\n",
    "options = webdriver.ChromeOptions()\n",
    "options.add_argument('--headless')\n",
    "\n",
    "HEADERS = ({'user-agent': 'Mozilla/5.0 (Windows NT 10.0; Win64; x64) AppleWebKit/537.36 (KHTML, like Gecko) Chrome/107.0.0.0 Safari/537.36 Edg/107.0.1418.35',\n",
    "            'Accept-Language': 'en-US, en;q=0.5','Accept-Encoding' : 'gzip', 'DNT' : '1','Connection' : 'close'})"
   ]
  },
  {
   "cell_type": "code",
   "execution_count": null,
   "id": "f93e1ec9",
   "metadata": {},
   "outputs": [],
   "source": [
    "# url_list = []\n",
    "# for page in range(51):\n",
    "#     driver = webdriver.Chrome('chromedriver.exe', options=options)\n",
    "#     driver.get('https://www.amazon.com/s?k=children%27s+book&i=stripbooks&rh=n%3A4%2Cp_n_feature_five_browse-bin%3A2578998011%7C2578999011%7C2579000011%7C2579001011&dc&page='+str(page)+'&crid=2V542SOL3EK2N&qid=1668618066&rnid=2245026011&sprefix=children%27s+book%2Caps%2C313&ref=sr_pg_4')\n",
    "#     title_a_s = driver.find_elements_by_css_selector('[class=\"a-link-normal s-underline-text s-underline-link-text s-link-style a-text-normal\"]')\n",
    "#     for i in title_a_s:\n",
    "#         url_list.append(i.get_attribute('href'))\n",
    "#     driver.quit()"
   ]
  },
  {
   "cell_type": "code",
   "execution_count": 2,
   "id": "9c01c10a",
   "metadata": {},
   "outputs": [],
   "source": [
    "def get_publish_date(isbn):\n",
    "    url = 'https://www.isbnsearcher.com/books/' + isbn.replace(\"-\", \"\")\n",
    "    webpage = requests.get(url, headers=HEADERS)\n",
    "    soup = bs(webpage.content, \"html.parser\")\n",
    "    for dt in soup.find_all('dt'):\n",
    "        if \"Published\" in dt.text:\n",
    "            published_date = dt.findNext('dd').text\n",
    "            if (\"-\" in published_date):\n",
    "                published_date = published_date.split('-')[0]\n",
    "            return published_date\n",
    "    return None"
   ]
  },
  {
   "cell_type": "code",
   "execution_count": null,
   "id": "2f3cd7ff",
   "metadata": {},
   "outputs": [],
   "source": [
    "# len(url_list)"
   ]
  },
  {
   "cell_type": "code",
   "execution_count": null,
   "id": "08ac7f83",
   "metadata": {},
   "outputs": [],
   "source": [
    "# df = pd.DataFrame(url_list)\n",
    "# df.to_csv('URLs', index=False)"
   ]
  },
  {
   "cell_type": "code",
   "execution_count": 3,
   "id": "c0da34b3",
   "metadata": {},
   "outputs": [],
   "source": [
    "a = pd.read_csv('URLs.csv')\n",
    "url_list = []\n",
    "for i in a.values.tolist():\n",
    "    url_list.append(i[0])"
   ]
  },
  {
   "cell_type": "code",
   "execution_count": 4,
   "id": "71c8643f",
   "metadata": {},
   "outputs": [],
   "source": [
    "dataframe = pd.DataFrame(columns=['Title', 'Price', 'n_pages', 'n_customer_review', 'ISBN', 'publication_date'])"
   ]
  },
  {
   "cell_type": "code",
   "execution_count": 5,
   "id": "15c9e7cb",
   "metadata": {},
   "outputs": [],
   "source": [
    "for i in url_list:\n",
    "    try:\n",
    "        i = i.replace(\"/zh/\", \"/en/\")\n",
    "        driver = webdriver.Chrome('chromedriver.exe', options=options)\n",
    "        driver.get(i)\n",
    "        title = driver.find_element_by_css_selector('[class=\"a-size-extra-large\"]').text\n",
    "        price = driver.find_element_by_css_selector('[class=\"a-size-base a-color-price a-color-price\"]').text\n",
    "        price = price.replace('US$', '')\n",
    "        n_pages = driver.find_element_by_css_selector('#rpi-attribute-book_details-fiona_pages > div.a-section.a-spacing-none.a-text-center.rpi-attribute-value').text\n",
    "        n_customer_review = driver.find_element_by_css_selector('#acrCustomerReviewText').text\n",
    "        \n",
    "        # get ISBN\n",
    "        # auxiliary variables\n",
    "        isbn_div_1 = driver.find_element_by_css_selector('[id = \"detailBulletsWrapper_feature_div\"]')\n",
    "        isbn_div_2 = isbn_div_1.find_element_by_css_selector('[id = \"detailBullets_feature_div\"]')\n",
    "        isbn_li_list = isbn_div_2.find_elements_by_css_selector('[class=\"a-list-item\"]')\n",
    "        isbn_content = isbn_li_list[4].text.strip()\n",
    "        if isbn_content[:7] == 'ISBN-13':\n",
    "            isbn = isbn_content\n",
    "        else:\n",
    "            for li in isbn_li_list:\n",
    "                if li.text[:7].strip() == 'ISBN-13':\n",
    "                    isbn = li.text\n",
    "                    break\n",
    "        isbn = isbn.replace('ISBN-13 : ', '')\n",
    "                    \n",
    "        sleep(random.uniform(1,2))\n",
    "        publication_date = get_publish_date(isbn.strip()[-14:])\n",
    "        if publication_date == None:\n",
    "            continue\n",
    "        \n",
    "        df_dict = {'Title':[title], 'Price':[price], 'n_pages': [n_pages], 'n_customer_review':[n_customer_review],\n",
    "                   'ISBN':[isbn], 'publication_date': [publication_date]}\n",
    "        df = pd.DataFrame(df_dict)\n",
    "\n",
    "        dataframe = pd.concat([dataframe, df], ignore_index=True)\n",
    "        sleep(random.uniform(1,2))\n",
    "        driver.quit()\n",
    "\n",
    "    except:\n",
    "        continue"
   ]
  },
  {
   "cell_type": "code",
   "execution_count": 6,
   "id": "57d30faa",
   "metadata": {
    "scrolled": true
   },
   "outputs": [
    {
     "name": "stdout",
     "output_type": "stream",
     "text": [
      "<class 'pandas.core.frame.DataFrame'>\n",
      "RangeIndex: 371 entries, 0 to 370\n",
      "Data columns (total 6 columns):\n",
      " #   Column             Non-Null Count  Dtype \n",
      "---  ------             --------------  ----- \n",
      " 0   Title              371 non-null    object\n",
      " 1   Price              371 non-null    object\n",
      " 2   n_pages            371 non-null    object\n",
      " 3   n_customer_review  371 non-null    object\n",
      " 4   ISBN               371 non-null    object\n",
      " 5   publication_date   371 non-null    object\n",
      "dtypes: object(6)\n",
      "memory usage: 17.5+ KB\n"
     ]
    }
   ],
   "source": [
    "dataframe.info()"
   ]
  },
  {
   "cell_type": "code",
   "execution_count": 7,
   "id": "9fafef76",
   "metadata": {
    "scrolled": true
   },
   "outputs": [
    {
     "data": {
      "text/html": [
       "<div>\n",
       "<style scoped>\n",
       "    .dataframe tbody tr th:only-of-type {\n",
       "        vertical-align: middle;\n",
       "    }\n",
       "\n",
       "    .dataframe tbody tr th {\n",
       "        vertical-align: top;\n",
       "    }\n",
       "\n",
       "    .dataframe thead th {\n",
       "        text-align: right;\n",
       "    }\n",
       "</style>\n",
       "<table border=\"1\" class=\"dataframe\">\n",
       "  <thead>\n",
       "    <tr style=\"text-align: right;\">\n",
       "      <th></th>\n",
       "      <th>Title</th>\n",
       "      <th>Price</th>\n",
       "      <th>n_pages</th>\n",
       "      <th>n_customer_review</th>\n",
       "      <th>ISBN</th>\n",
       "      <th>publication_date</th>\n",
       "    </tr>\n",
       "  </thead>\n",
       "  <tbody>\n",
       "    <tr>\n",
       "      <th>0</th>\n",
       "      <td>The Wonderful Things You Will Be</td>\n",
       "      <td>$8.55</td>\n",
       "      <td>36 pages</td>\n",
       "      <td>25,800 ratings</td>\n",
       "      <td>978-0385376716</td>\n",
       "      <td>2015</td>\n",
       "    </tr>\n",
       "    <tr>\n",
       "      <th>1</th>\n",
       "      <td>World of Eric Carle, Around the Farm 30-Button...</td>\n",
       "      <td>$11.57</td>\n",
       "      <td>24 pages</td>\n",
       "      <td>18,566 ratings</td>\n",
       "      <td>978-1450805759</td>\n",
       "      <td>2011</td>\n",
       "    </tr>\n",
       "    <tr>\n",
       "      <th>2</th>\n",
       "      <td>Where the Wild Things Are</td>\n",
       "      <td>$13.20</td>\n",
       "      <td>48 pages</td>\n",
       "      <td>32,473 ratings</td>\n",
       "      <td>978-1450805759</td>\n",
       "      <td>2011</td>\n",
       "    </tr>\n",
       "    <tr>\n",
       "      <th>3</th>\n",
       "      <td>Kindness is my Superpower: A children's Book A...</td>\n",
       "      <td>$11.97</td>\n",
       "      <td>38 pages</td>\n",
       "      <td>4,574 ratings</td>\n",
       "      <td>979-8669081621</td>\n",
       "      <td>2020</td>\n",
       "    </tr>\n",
       "    <tr>\n",
       "      <th>4</th>\n",
       "      <td>The Rainbow Fish</td>\n",
       "      <td>$12.99</td>\n",
       "      <td>32 pages</td>\n",
       "      <td>19,262 ratings</td>\n",
       "      <td>978-1558580091</td>\n",
       "      <td>1992</td>\n",
       "    </tr>\n",
       "  </tbody>\n",
       "</table>\n",
       "</div>"
      ],
      "text/plain": [
       "                                               Title   Price   n_pages  \\\n",
       "0                   The Wonderful Things You Will Be   $8.55  36 pages   \n",
       "1  World of Eric Carle, Around the Farm 30-Button...  $11.57  24 pages   \n",
       "2                          Where the Wild Things Are  $13.20  48 pages   \n",
       "3  Kindness is my Superpower: A children's Book A...  $11.97  38 pages   \n",
       "4                                   The Rainbow Fish  $12.99  32 pages   \n",
       "\n",
       "  n_customer_review            ISBN publication_date  \n",
       "0    25,800 ratings  978-0385376716             2015  \n",
       "1    18,566 ratings  978-1450805759             2011  \n",
       "2    32,473 ratings  978-1450805759             2011  \n",
       "3     4,574 ratings  979-8669081621             2020  \n",
       "4    19,262 ratings  978-1558580091             1992  "
      ]
     },
     "execution_count": 7,
     "metadata": {},
     "output_type": "execute_result"
    }
   ],
   "source": [
    "dataframe.head()"
   ]
  },
  {
   "cell_type": "code",
   "execution_count": 8,
   "id": "75c0e49a",
   "metadata": {},
   "outputs": [],
   "source": [
    "dataframe.to_csv('amazon_newly_updated.csv', index=False)"
   ]
  },
  {
   "cell_type": "code",
   "execution_count": 9,
   "id": "fb57baa3",
   "metadata": {},
   "outputs": [
    {
     "data": {
      "text/plain": [
       "371"
      ]
     },
     "execution_count": 9,
     "metadata": {},
     "output_type": "execute_result"
    }
   ],
   "source": [
    "len(dataframe)"
   ]
  },
  {
   "cell_type": "markdown",
   "id": "858b42ab",
   "metadata": {},
   "source": [
    "## Data Analysis"
   ]
  },
  {
   "cell_type": "code",
   "execution_count": null,
   "id": "06bfed65",
   "metadata": {},
   "outputs": [],
   "source": [
    "# import pandas as pd"
   ]
  },
  {
   "cell_type": "code",
   "execution_count": null,
   "id": "3dddd4b2",
   "metadata": {},
   "outputs": [],
   "source": [
    "# sales_data = pd.read_csv('amazon_newly_updated.csv')\n",
    "# reviews = pd.read_csv('review.csv', names=[\"ISBN\",\"review\"])"
   ]
  },
  {
   "cell_type": "code",
   "execution_count": null,
   "id": "c2d1e2dd",
   "metadata": {},
   "outputs": [],
   "source": [
    "# df = pd.merge(sales_data, reviews, on=\"ISBN\", how =\"left\")"
   ]
  },
  {
   "cell_type": "code",
   "execution_count": null,
   "id": "5af6ba2c",
   "metadata": {},
   "outputs": [],
   "source": [
    "# print(\"shape of dataset before merge\", sales_data.shape)\n",
    "# print(\"shape of dataset frame after merge,\", df.shape)"
   ]
  }
 ],
 "metadata": {
  "kernelspec": {
   "display_name": "Python 3 (ipykernel)",
   "language": "python",
   "name": "python3"
  },
  "language_info": {
   "codemirror_mode": {
    "name": "ipython",
    "version": 3
   },
   "file_extension": ".py",
   "mimetype": "text/x-python",
   "name": "python",
   "nbconvert_exporter": "python",
   "pygments_lexer": "ipython3",
   "version": "3.7.13"
  }
 },
 "nbformat": 4,
 "nbformat_minor": 5
}
